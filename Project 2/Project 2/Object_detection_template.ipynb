{
 "cells": [
  {
   "cell_type": "markdown",
   "metadata": {},
   "source": [
    "# Detection"
   ]
  },
  {
   "cell_type": "code",
   "execution_count": null,
   "metadata": {},
   "outputs": [],
   "source": [
    "# Todo\n",
    "import torch\n",
    "from torch.utils.data import DataLoader, TensorDataset\n",
    "from torchvision import transforms"
   ]
  },
  {
   "cell_type": "markdown",
   "metadata": {},
   "source": [
    "### Load data and preprocessing"
   ]
  },
  {
   "cell_type": "code",
   "execution_count": 3,
   "metadata": {},
   "outputs": [],
   "source": [
    "# TODO\n",
    "# Bilde str \n",
    "H_in, W_in = 48, 60\n",
    "# definere grid str \n",
    "H_out, W_out = 2, 3 \n",
    "\n",
    "# laster så inn den ubehandla dataen\n",
    "# prøver å gjøre oppgave 3.11 selv om den bre er verdt 1p \n",
    "y_true_train = torch.load(\"navn\") # må finne stien her vet ujje helt hva det er \n",
    "y_true_val = torch.load(\"navn\")\n",
    "y_true_test = torch.load(\"navn\")\n",
    "\n",
    "\n",
    "# Funksjon for å konvertere y_true til grid-format\n",
    "def convert_to_grid(y_true_list, H_out=2, W_out=3, img_h=48, img_w=60):\n",
    "\n",
    "    # Konverterer y_true-listen til et grid-format (N, H_out, W_out, 6).\n",
    "    N = len(y_true_list)\n",
    "    y_true_grid = torch.zeros((N, H_out, W_out, 6))  # Initialiser grid med pc=0 (ingen objekter)\n",
    "\n",
    "    cell_width = img_w / W_out  # Bredde per celle\n",
    "    cell_height = img_h / H_out  # Høyde per celle\n",
    "\n",
    "    for img_idx, objects in enumerate(y_true_list):  # For hvert bilde\n",
    "        for obj in objects:  # For hvert objekt i bildet\n",
    "            pc, x, y, w, h, c = obj\n",
    "\n",
    "            # Finn grid-indeks (h, w) hvor objektets senter faller\n",
    "            grid_h = int(y * H_out)  \n",
    "            grid_w = int(x * W_out)  \n",
    "\n",
    "            # Konverter globale koordinater til lokale cellerammer\n",
    "            x_local = (x - (grid_w / W_out)) * W_out  # Lokale x-koordinater (0-1)\n",
    "            y_local = (y - (grid_h / H_out)) * H_out  # Lokale y-koordinater (0-1)\n",
    "            w_local = w * W_out  # Normaliser bredde\n",
    "            h_local = h * H_out  # Normaliser høyde\n",
    "\n",
    "            # Lagre i grid\n",
    "            y_true_grid[img_idx, grid_h, grid_w] = torch.tensor([1, x_local, y_local, w_local, h_local, c])\n",
    "\n",
    "    return y_true_grid\n",
    "\n"
   ]
  },
  {
   "cell_type": "markdown",
   "metadata": {},
   "source": [
    "### Normalize Images"
   ]
  },
  {
   "cell_type": "markdown",
   "metadata": {},
   "source": [
    "### Training"
   ]
  },
  {
   "cell_type": "code",
   "execution_count": null,
   "metadata": {},
   "outputs": [],
   "source": [
    "# TODO\n",
    "# normaliserer dataen for training \n",
    "imgs = \n"
   ]
  },
  {
   "cell_type": "markdown",
   "metadata": {},
   "source": [
    "### Prediction"
   ]
  },
  {
   "cell_type": "code",
   "execution_count": null,
   "metadata": {},
   "outputs": [],
   "source": [
    "# TODO"
   ]
  },
  {
   "cell_type": "markdown",
   "metadata": {},
   "source": [
    "### Model selection and evaluation"
   ]
  },
  {
   "cell_type": "code",
   "execution_count": 4,
   "metadata": {},
   "outputs": [],
   "source": [
    "def compute_IoU_detection(model, loader, preprocessor):\n",
    "    \"\"\"\n",
    "    Compute IoU performance of the model on the given dataset\n",
    "    \"\"\"\n",
    "    # TODO\n",
    "\n",
    "def compute_accuracy_detection(model, loader, preprocessor):\n",
    "    \"\"\"\n",
    "    Compute accuracy performance of the model on the given dataset\n",
    "    \"\"\"\n",
    "   # tODO"
   ]
  },
  {
   "cell_type": "code",
   "execution_count": null,
   "metadata": {},
   "outputs": [],
   "source": []
  }
 ],
 "metadata": {
  "kernelspec": {
   "display_name": "norce",
   "language": "python",
   "name": "python3"
  },
  "language_info": {
   "codemirror_mode": {
    "name": "ipython",
    "version": 3
   },
   "file_extension": ".py",
   "mimetype": "text/x-python",
   "name": "python",
   "nbconvert_exporter": "python",
   "pygments_lexer": "ipython3",
   "version": "3.11.7"
  }
 },
 "nbformat": 4,
 "nbformat_minor": 2
}
